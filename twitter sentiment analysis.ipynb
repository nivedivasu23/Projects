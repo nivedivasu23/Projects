{
 "cells": [
  {
   "cell_type": "markdown",
   "metadata": {},
   "source": [
    "### IMPORTING THE REQUIRED LIBRARIES"
   ]
  },
  {
   "cell_type": "code",
   "execution_count": 1,
   "metadata": {},
   "outputs": [],
   "source": [
    "import re #import regular expression\n",
    "import nltk # import natural language tool manipulation\n",
    "import string\n",
    "import warnings\n",
    "import numpy as np\n",
    "import pandas as pd\n",
    "import matplotlib.pyplot as plt\n",
    "import seaborn as sns"
   ]
  },
  {
   "cell_type": "markdown",
   "metadata": {},
   "source": [
    "### CALLING THE DATASET"
   ]
  },
  {
   "cell_type": "code",
   "execution_count": 2,
   "metadata": {},
   "outputs": [],
   "source": [
    "data_train = pd.read_csv(\"train_tweet.csv\") # importhing the training dataset\n",
    "data_test = pd.read_csv(\"test_tweets.csv\") # importing testing dataset"
   ]
  },
  {
   "cell_type": "markdown",
   "metadata": {},
   "source": [
    "### READING THE DATASET"
   ]
  },
  {
   "cell_type": "code",
   "execution_count": 3,
   "metadata": {},
   "outputs": [
    {
     "name": "stdout",
     "output_type": "stream",
     "text": [
      "train data contents\n",
      "   id  label                                              tweet\n",
      "0   1      0   @user when a father is dysfunctional and is s...\n",
      "1   2      0  @user @user thanks for #lyft credit i can't us...\n",
      "2   3      0                                bihday your majesty\n",
      "3   4      0  #model   i love u take with u all the time in ...\n",
      "4   5      0             factsguide: society now    #motivation \n",
      "\n",
      "size of train data (31962, 3) \n",
      "\n",
      "test data contents\n",
      "      id                                              tweet\n",
      "0  31963  #studiolife #aislife #requires #passion #dedic...\n",
      "1  31964   @user #white #supremacists want everyone to s...\n",
      "2  31965  safe ways to heal your #acne!!    #altwaystohe...\n",
      "3  31966  is the hp and the cursed child book up for res...\n",
      "4  31967    3rd #bihday to my amazing, hilarious #nephew...\n",
      "size of test data (17197, 2)\n"
     ]
    }
   ],
   "source": [
    "print(\"train data contents\")\n",
    "print(data_train.head(5),\"\\n\")\n",
    "print(\"size of train data\",data_train.shape,\"\\n\")# size gives number of rows count shape gives dimension of dataset\n",
    "\n",
    "print(\"test data contents\")\n",
    "print(data_test.head(5))\n",
    "print(\"size of test data\",data_test.shape)"
   ]
  },
  {
   "cell_type": "markdown",
   "metadata": {},
   "source": [
    "### DIFFERENTIATE HATE TWEETS AND NON-HATE TWEETS"
   ]
  },
  {
   "cell_type": "markdown",
   "metadata": {},
   "source": [
    "Here to classify the hate speech and non hate speech we have considered racist/sexist words present in the given dataset. Based on that label is allocated to it , if label = \"0\" (non-hate tweet) ,if label= \"1\"(hate tweet)"
   ]
  },
  {
   "cell_type": "code",
   "execution_count": 4,
   "metadata": {},
   "outputs": [
    {
     "name": "stdout",
     "output_type": "stream",
     "text": [
      "   id  label                                              tweet\n",
      "0   1      0   @user when a father is dysfunctional and is s...\n",
      "1   2      0  @user @user thanks for #lyft credit i can't us...\n",
      "2   3      0                                bihday your majesty\n",
      "3   4      0  #model   i love u take with u all the time in ...\n",
      "4   5      0             factsguide: society now    #motivation\n",
      "5   6      0  [2/2] huge fan fare and big talking before the...\n",
      "6   7      0   @user camping tomorrow @user @user @user @use...\n",
      "7   8      0  the next school year is the year for exams.ð...\n",
      "8   9      0  we won!!! love the land!!! #allin #cavs #champ...\n",
      "9  10      0   @user @user welcome here !  i'm   it's so #gr...\n"
     ]
    }
   ],
   "source": [
    "print(data_train[data_train['label']==0].head(10)) #non hate tweets"
   ]
  },
  {
   "cell_type": "code",
   "execution_count": 5,
   "metadata": {},
   "outputs": [
    {
     "name": "stdout",
     "output_type": "stream",
     "text": [
      "      id  label                                              tweet\n",
      "13    14      1  @user #cnn calls #michigan middle school 'buil...\n",
      "14    15      1  no comment!  in #australia   #opkillingbay #se...\n",
      "17    18      1                             retweet if you agree! \n",
      "23    24      1    @user @user lumpy says i am a . prove it lumpy.\n",
      "34    35      1  it's unbelievable that in the 21st century we'...\n",
      "56    57      1            @user lets fight against  #love #peace \n",
      "68    69      1  ð©the white establishment can't have blk fol...\n",
      "77    78      1  @user hey, white people: you can call people '...\n",
      "82    83      1  how the #altright uses  &amp; insecurity to lu...\n",
      "111  112      1  @user i'm not interested in a #linguistics tha...\n"
     ]
    }
   ],
   "source": [
    "print(data_train[data_train['label']==1].head(10)) #hate tweet"
   ]
  },
  {
   "cell_type": "code",
   "execution_count": 6,
   "metadata": {},
   "outputs": [
    {
     "data": {
      "text/plain": [
       "0    29720\n",
       "1     2242\n",
       "Name: label, dtype: int64"
      ]
     },
     "execution_count": 6,
     "metadata": {},
     "output_type": "execute_result"
    }
   ],
   "source": [
    "data_train['label'].value_counts()"
   ]
  },
  {
   "cell_type": "markdown",
   "metadata": {},
   "source": [
    "### DATA CLEANING"
   ]
  },
  {
   "cell_type": "markdown",
   "metadata": {},
   "source": [
    "* Removal of unwanted characters\n",
    "* obtaining better features for modeling"
   ]
  },
  {
   "cell_type": "code",
   "execution_count": 7,
   "metadata": {},
   "outputs": [
    {
     "data": {
      "text/plain": [
       "(49159, 3)"
      ]
     },
     "execution_count": 7,
     "metadata": {},
     "output_type": "execute_result"
    }
   ],
   "source": [
    "# join both train data and test data\n",
    "\n",
    "data_combi = data_train.append(data_test, ignore_index = True)\n",
    "data_combi.shape"
   ]
  },
  {
   "cell_type": "code",
   "execution_count": 8,
   "metadata": {},
   "outputs": [],
   "source": [
    "# defining a pattern removal function\n",
    "\n",
    "def pattern_remove(input_data , pattern):\n",
    "    pat = re.findall(pattern, input_data)\n",
    "    for val in pat:\n",
    "        input_data = re.sub(val,'',input_data)\n",
    "    return input_data"
   ]
  },
  {
   "cell_type": "code",
   "execution_count": 9,
   "metadata": {},
   "outputs": [
    {
     "name": "stdout",
     "output_type": "stream",
     "text": [
      "   id  label                                              tweet  \\\n",
      "0   1    0.0   @user when a father is dysfunctional and is s...   \n",
      "1   2    0.0  @user @user thanks for #lyft credit i can't us...   \n",
      "2   3    0.0                                bihday your majesty   \n",
      "3   4    0.0  #model   i love u take with u all the time in ...   \n",
      "4   5    0.0             factsguide: society now    #motivation   \n",
      "5   6    0.0  [2/2] huge fan fare and big talking before the...   \n",
      "6   7    0.0   @user camping tomorrow @user @user @user @use...   \n",
      "7   8    0.0  the next school year is the year for exams.ð...   \n",
      "8   9    0.0  we won!!! love the land!!! #allin #cavs #champ...   \n",
      "9  10    0.0   @user @user welcome here !  i'm   it's so #gr...   \n",
      "\n",
      "                                            twt_tidy  \n",
      "0    when a father is dysfunctional and is so sel...  \n",
      "1    thanks for #lyft credit i can't use cause th...  \n",
      "2                                bihday your majesty  \n",
      "3  #model   i love u take with u all the time in ...  \n",
      "4             factsguide: society now    #motivation  \n",
      "5  [2/2] huge fan fare and big talking before the...  \n",
      "6                   camping tomorrow        dannyâ¦  \n",
      "7  the next school year is the year for exams.ð...  \n",
      "8  we won!!! love the land!!! #allin #cavs #champ...  \n",
      "9              welcome here !  i'm   it's so #gr8 !   \n"
     ]
    }
   ],
   "source": [
    "## removing tweeter handelers\n",
    "data_combi['twt_tidy'] = np.vectorize(pattern_remove)(data_combi['tweet'],\"@[\\w]*\")\n",
    "print(data_combi.head(10))\n",
    "# the @user is removed from the tweets"
   ]
  },
  {
   "cell_type": "code",
   "execution_count": 10,
   "metadata": {},
   "outputs": [
    {
     "name": "stderr",
     "output_type": "stream",
     "text": [
      "<ipython-input-10-67791572e53f>:3: FutureWarning: The default value of regex will change from True to False in a future version.\n",
      "  data_combi['twt_tidy'] = data_combi['twt_tidy'].str.replace(\"[^a-zA-Z#]\",\" \")\n"
     ]
    },
    {
     "name": "stdout",
     "output_type": "stream",
     "text": [
      "   id  label                                              tweet  \\\n",
      "0   1    0.0   @user when a father is dysfunctional and is s...   \n",
      "1   2    0.0  @user @user thanks for #lyft credit i can't us...   \n",
      "2   3    0.0                                bihday your majesty   \n",
      "3   4    0.0  #model   i love u take with u all the time in ...   \n",
      "4   5    0.0             factsguide: society now    #motivation   \n",
      "5   6    0.0  [2/2] huge fan fare and big talking before the...   \n",
      "6   7    0.0   @user camping tomorrow @user @user @user @use...   \n",
      "7   8    0.0  the next school year is the year for exams.ð...   \n",
      "8   9    0.0  we won!!! love the land!!! #allin #cavs #champ...   \n",
      "9  10    0.0   @user @user welcome here !  i'm   it's so #gr...   \n",
      "\n",
      "                                            twt_tidy  \n",
      "0    when a father is dysfunctional and is so sel...  \n",
      "1    thanks for #lyft credit i can t use cause th...  \n",
      "2                                bihday your majesty  \n",
      "3  #model   i love u take with u all the time in ...  \n",
      "4             factsguide  society now    #motivation  \n",
      "5        huge fan fare and big talking before the...  \n",
      "6                   camping tomorrow        danny     \n",
      "7  the next school year is the year for exams    ...  \n",
      "8  we won    love the land    #allin #cavs #champ...  \n",
      "9              welcome here    i m   it s so #gr      \n"
     ]
    }
   ],
   "source": [
    "# removing punctuation ,numbers , special character\n",
    "\n",
    "data_combi['twt_tidy'] = data_combi['twt_tidy'].str.replace(\"[^a-zA-Z#]\",\" \")\n",
    "print(data_combi.head(10))\n",
    "\n",
    "# there hashtags and strings are kept other characters are removed"
   ]
  },
  {
   "cell_type": "code",
   "execution_count": 11,
   "metadata": {},
   "outputs": [
    {
     "name": "stdout",
     "output_type": "stream",
     "text": [
      "   id  label                                              tweet  \\\n",
      "0   1    0.0   @user when a father is dysfunctional and is s...   \n",
      "1   2    0.0  @user @user thanks for #lyft credit i can't us...   \n",
      "2   3    0.0                                bihday your majesty   \n",
      "3   4    0.0  #model   i love u take with u all the time in ...   \n",
      "4   5    0.0             factsguide: society now    #motivation   \n",
      "5   6    0.0  [2/2] huge fan fare and big talking before the...   \n",
      "6   7    0.0   @user camping tomorrow @user @user @user @use...   \n",
      "7   8    0.0  the next school year is the year for exams.ð...   \n",
      "8   9    0.0  we won!!! love the land!!! #allin #cavs #champ...   \n",
      "9  10    0.0   @user @user welcome here !  i'm   it's so #gr...   \n",
      "\n",
      "                                            twt_tidy  \n",
      "0  when father dysfunctional selfish drags kids i...  \n",
      "1  thanks #lyft credit cause they offer wheelchai...  \n",
      "2                                bihday your majesty  \n",
      "3                         #model love take with time  \n",
      "4                     factsguide society #motivation  \n",
      "5  huge fare talking before they leave chaos disp...  \n",
      "6                             camping tomorrow danny  \n",
      "7  next school year year exams think about that #...  \n",
      "8  love land #allin #cavs #champions #cleveland #...  \n",
      "9                                       welcome here  \n"
     ]
    }
   ],
   "source": [
    "# removing the short words \n",
    "\n",
    "data_combi['twt_tidy'] = data_combi['twt_tidy'].apply(lambda x:' '.join([w for w in x.split() if len(w)>3]))\n",
    "print(data_combi.head(10))\n",
    "# all the strings which are less than size 3 are removed"
   ]
  },
  {
   "cell_type": "markdown",
   "metadata": {},
   "source": [
    "### TEXT NORMALIZATION"
   ]
  },
  {
   "cell_type": "code",
   "execution_count": 12,
   "metadata": {},
   "outputs": [
    {
     "name": "stdout",
     "output_type": "stream",
     "text": [
      "0    [when, father, dysfunctional, selfish, drags, ...\n",
      "1    [thanks, #lyft, credit, cause, they, offer, wh...\n",
      "2                              [bihday, your, majesty]\n",
      "3                     [#model, love, take, with, time]\n",
      "4                   [factsguide, society, #motivation]\n",
      "Name: twt_tidy, dtype: object\n"
     ]
    },
    {
     "data": {
      "text/plain": [
       "pandas.core.series.Series"
      ]
     },
     "execution_count": 12,
     "metadata": {},
     "output_type": "execute_result"
    }
   ],
   "source": [
    "## tokenizing the strings\n",
    "\n",
    "tweet_tokened = data_combi['twt_tidy'].apply(lambda x : x.split())\n",
    "print(tweet_tokened.head(5))\n",
    "type(tweet_tokened)"
   ]
  },
  {
   "cell_type": "markdown",
   "metadata": {},
   "source": [
    "### NLTK PORTSTEMMER \n",
    "* used to recude the words to its root"
   ]
  },
  {
   "cell_type": "code",
   "execution_count": 13,
   "metadata": {},
   "outputs": [],
   "source": [
    "from nltk.stem.porter import *"
   ]
  },
  {
   "cell_type": "code",
   "execution_count": 14,
   "metadata": {},
   "outputs": [
    {
     "name": "stdout",
     "output_type": "stream",
     "text": [
      "0    [when, father, dysfunct, selfish, drag, kid, i...\n",
      "1    [thank, #lyft, credit, caus, they, offer, whee...\n",
      "2                              [bihday, your, majesti]\n",
      "3                     [#model, love, take, with, time]\n",
      "4                         [factsguid, societi, #motiv]\n",
      "Name: twt_tidy, dtype: object\n"
     ]
    }
   ],
   "source": [
    "stemmer = PorterStemmer()\n",
    "tweet_tokened = tweet_tokened.apply(lambda x: [stemmer.stem(i) for i in x])\n",
    "print(tweet_tokened.head(5))"
   ]
  },
  {
   "cell_type": "markdown",
   "metadata": {},
   "source": [
    "### VISUALIZATION"
   ]
  },
  {
   "cell_type": "code",
   "execution_count": 15,
   "metadata": {},
   "outputs": [
    {
     "data": {
      "image/png": "[encoded data removed]",
      "text/plain": [
       "<Figure size 432x288 with 1 Axes>"
      ]
     },
     "metadata": {
      "needs_background": "light"
     },
     "output_type": "display_data"
    }
   ],
   "source": [
    "# finding the distribution of hate comments and non hate comments\n",
    "\n",
    "plt.hist(data_train['label'],\n",
    "        bins = 20,\n",
    "        alpha = 0.5,\n",
    "        color = 'green',\n",
    "        label = 'range of hate comment and non hate comment')\n",
    "plt.title(\"comment distribution in train data\")\n",
    "plt.xlabel(\"type of comment\")\n",
    "plt.ylabel(\"count\")\n",
    "plt.show()"
   ]
  },
  {
   "cell_type": "code",
   "execution_count": 16,
   "metadata": {},
   "outputs": [],
   "source": [
    "# impact of hashtags in the tweets\n",
    "# function defined for extravting hashtags\n",
    "def extract_ht(x):\n",
    "    ht_data= []\n",
    "    for i in x:\n",
    "        ht = re.findall(r'#[\\w]+',i)\n",
    "        ht_data.append(ht)\n",
    "    return ht_data"
   ]
  },
  {
   "cell_type": "code",
   "execution_count": 17,
   "metadata": {},
   "outputs": [
    {
     "name": "stdout",
     "output_type": "stream",
     "text": [
      "[['#run'], ['#lyft', '#disapointed', '#getthanked'], [], ['#model']]\n"
     ]
    }
   ],
   "source": [
    "# extracting hash tags from non-racist tweets\n",
    "positive_ht = extract_ht(data_combi['twt_tidy'][data_combi['label']==0]) # calling extract_ht function\n",
    "print(positive_ht[:4])"
   ]
  },
  {
   "cell_type": "code",
   "execution_count": 18,
   "metadata": {},
   "outputs": [
    {
     "name": "stdout",
     "output_type": "stream",
     "text": [
      "[['#cnn', '#michigan', '#tcot'], ['#australia', '#opkillingbay', '#seashepherd', '#helpcovedolphins', '#thecove', '#helpcovedolphins'], [], []]\n"
     ]
    }
   ],
   "source": [
    "# extracting hashtags from racist comment\n",
    "negative_ht = extract_ht(data_combi['twt_tidy'][data_combi['label']==1]) # calling extract_ht function\n",
    "print(negative_ht[:4])"
   ]
  },
  {
   "cell_type": "code",
   "execution_count": 19,
   "metadata": {},
   "outputs": [],
   "source": [
    "## unnesting the list\n",
    "positive_ht = sum(positive_ht,[])\n",
    "negative_ht = sum(negative_ht,[])"
   ]
  },
  {
   "cell_type": "code",
   "execution_count": 20,
   "metadata": {},
   "outputs": [
    {
     "name": "stdout",
     "output_type": "stream",
     "text": [
      "['#cnn', '#michigan', '#tcot', '#australia']\n"
     ]
    }
   ],
   "source": [
    "print(negative_ht[:4]) # converted to single list"
   ]
  },
  {
   "cell_type": "code",
   "execution_count": 21,
   "metadata": {},
   "outputs": [
    {
     "name": "stdout",
     "output_type": "stream",
     "text": [
      "       hashtags  count\n",
      "0          #run     34\n",
      "1         #lyft      2\n",
      "2  #disapointed      1\n",
      "3   #getthanked      2\n",
      "4        #model    365\n"
     ]
    }
   ],
   "source": [
    "# creating dataset frequency of hash tags for positive comments\n",
    "freq = nltk.FreqDist(positive_ht)\n",
    "\n",
    "df = pd.DataFrame({'hashtags':list(freq.keys()),\n",
    "                  'count':list(freq.values())})\n",
    "print(df.head(5))"
   ]
  },
  {
   "cell_type": "code",
   "execution_count": 22,
   "metadata": {},
   "outputs": [
    {
     "name": "stdout",
     "output_type": "stream",
     "text": [
      "        hashtags  count\n",
      "0           #cnn     10\n",
      "1      #michigan      2\n",
      "2          #tcot     14\n",
      "3     #australia      6\n",
      "4  #opkillingbay      5\n"
     ]
    }
   ],
   "source": [
    "# creating dataset frequency of hash tags for negative comments\n",
    "n_freq = nltk.FreqDist(negative_ht)\n",
    "df_n = pd.DataFrame({'hashtags':list(n_freq.keys()),\n",
    "                    'count':list(n_freq.values())})\n",
    "print(df_n.head(5))"
   ]
  },
  {
   "cell_type": "code",
   "execution_count": 23,
   "metadata": {},
   "outputs": [
    {
     "data": {
      "text/plain": [
       "<AxesSubplot:>"
      ]
     },
     "execution_count": 23,
     "metadata": {},
     "output_type": "execute_result"
    },
    {
     "data": {
      "image/png": "[encoded data removed]",
      "text/plain": [
       "<Figure size 432x288 with 1 Axes>"
      ]
     },
     "metadata": {
      "needs_background": "light"
     },
     "output_type": "display_data"
    }
   ],
   "source": [
    "## plotting the hashtags\n",
    "df = df.nlargest(columns = \"count\",n = 20)\n",
    "df['count'].plot(kind = 'bar')"
   ]
  },
  {
   "cell_type": "code",
   "execution_count": 24,
   "metadata": {},
   "outputs": [
    {
     "data": {
      "image/png": "[encoded data removed]",
      "text/plain": [
       "<Figure size 1440x360 with 1 Axes>"
      ]
     },
     "metadata": {
      "needs_background": "light"
     },
     "output_type": "display_data"
    }
   ],
   "source": [
    "#using seaborn\n",
    "plt.figure(figsize = (20,5))\n",
    "sn_plt = sns.barplot(data = df, x = 'hashtags', y = 'count')\n",
    "sn_plt.set(ylabel = 'count')\n",
    "plt.show()"
   ]
  },
  {
   "cell_type": "markdown",
   "metadata": {},
   "source": [
    "##### from the plot we can conclude that words like love ,positive , smile are frequently used in positive comments"
   ]
  },
  {
   "cell_type": "code",
   "execution_count": 25,
   "metadata": {},
   "outputs": [
    {
     "data": {
      "image/png": "[encoded data removed]",
      "text/plain": [
       "<Figure size 1080x360 with 1 Axes>"
      ]
     },
     "metadata": {
      "needs_background": "light"
     },
     "output_type": "display_data"
    }
   ],
   "source": [
    "df_n = df_n.nlargest(columns = \"count\",n = 20)\n",
    "plt.figure(figsize = (15,5))\n",
    "sn_plt = sns.barplot(data = df_n, x = 'hashtags', y = 'count')\n",
    "sn_plt.set(ylabel = 'count')\n",
    "plt.show()"
   ]
  },
  {
   "cell_type": "markdown",
   "metadata": {},
   "source": [
    "##### from this plot we can conclude that trump , politics , allahsoi are some of the most frequent occured in hate tweets "
   ]
  },
  {
   "cell_type": "markdown",
   "metadata": {},
   "source": [
    "#### FEATURE EXTRACTION"
   ]
  },
  {
   "cell_type": "code",
   "execution_count": 26,
   "metadata": {},
   "outputs": [
    {
     "name": "stdout",
     "output_type": "stream",
     "text": [
      "Requirement already satisfied: gensim in c:\\users\\lenovo\\anaconda3\\lib\\site-packages (4.1.2)\n",
      "Requirement already satisfied: smart-open>=1.8.1 in c:\\users\\lenovo\\anaconda3\\lib\\site-packages (from gensim) (5.2.1)\n",
      "Requirement already satisfied: numpy>=1.17.0 in c:\\users\\lenovo\\anaconda3\\lib\\site-packages (from gensim) (1.19.5)\n",
      "Requirement already satisfied: Cython==0.29.23 in c:\\users\\lenovo\\anaconda3\\lib\\site-packages (from gensim) (0.29.23)\n",
      "Requirement already satisfied: scipy>=0.18.1 in c:\\users\\lenovo\\anaconda3\\lib\\site-packages (from gensim) (1.6.2)\n",
      "Note: you may need to restart the kernel to use updated packages.\n"
     ]
    }
   ],
   "source": [
    "pip install gensim"
   ]
  },
  {
   "cell_type": "code",
   "execution_count": 27,
   "metadata": {},
   "outputs": [],
   "source": [
    "# importing the libraries\n",
    "from sklearn.feature_extraction.text import TfidfVectorizer , CountVectorizer\n",
    "from gensim.models import Word2Vec"
   ]
  },
  {
   "cell_type": "code",
   "execution_count": 28,
   "metadata": {},
   "outputs": [],
   "source": [
    "## applying word2vector feature extraction\n",
    "tweet_tokened = data_combi['twt_tidy'].apply(lambda x : x.split())"
   ]
  },
  {
   "cell_type": "code",
   "execution_count": 29,
   "metadata": {},
   "outputs": [],
   "source": [
    "# building the model for word2vector\n",
    "mod_w2v = Word2Vec( tweet_tokened,\n",
    "                                   vector_size = 200,\n",
    "                                     window =5,\n",
    "                                     min_count = 2,\n",
    "                                     sg = 1,\n",
    "                                     hs = 0,\n",
    "                                     negative = 10,\n",
    "                                     workers = 2,\n",
    "                                     seed = 34)"
   ]
  },
  {
   "cell_type": "code",
   "execution_count": 30,
   "metadata": {},
   "outputs": [
    {
     "data": {
      "text/plain": [
       "(6480119, 7536020)"
      ]
     },
     "execution_count": 30,
     "metadata": {},
     "output_type": "execute_result"
    }
   ],
   "source": [
    "# training the model\n",
    "mod_w2v.train(tweet_tokened, total_examples = len(data_combi['twt_tidy']),epochs = 20)"
   ]
  },
  {
   "cell_type": "code",
   "execution_count": 31,
   "metadata": {},
   "outputs": [
    {
     "data": {
      "text/plain": [
       "[('#indonesiafoheworld', 0.4649658501148224),\n",
       " ('weeksary', 0.44968342781066895),\n",
       " ('cassidy', 0.442415326833725),\n",
       " ('#formation', 0.43606218695640564),\n",
       " ('#bihdaybash', 0.4297032356262207),\n",
       " ('#heroesdayug', 0.42831435799598694),\n",
       " ('brad', 0.4174644649028778),\n",
       " ('#beloved', 0.41512009501457214),\n",
       " ('#bikinibody', 0.41222089529037476),\n",
       " ('maddy', 0.41017547249794006)]"
      ]
     },
     "execution_count": 31,
     "metadata": {},
     "output_type": "execute_result"
    }
   ],
   "source": [
    "mod_w2v.wv.most_similar(positive='love') # checking the word2vector for love\n",
    "#mod_w2v.wv['food']\n"
   ]
  },
  {
   "cell_type": "code",
   "execution_count": 32,
   "metadata": {},
   "outputs": [],
   "source": [
    "## creating the dataframe \n",
    "def word_vec(token, size):\n",
    "    vect= np.zeros(size).reshape((1,size))\n",
    "    count = 0\n",
    "    for word in token:\n",
    "        try:\n",
    "            \n",
    "            vect += mod_w2v.wv[word].reshape((1,size))\n",
    "            count += 1\n",
    "        except KeyError:\n",
    "            continue\n",
    "    if count != 0:\n",
    "        vect /= count\n",
    "    return vect"
   ]
  },
  {
   "cell_type": "code",
   "execution_count": 33,
   "metadata": {},
   "outputs": [
    {
     "name": "stdout",
     "output_type": "stream",
     "text": [
      "49159\n"
     ]
    }
   ],
   "source": [
    "print(len(tweet_tokened))"
   ]
  },
  {
   "cell_type": "code",
   "execution_count": 34,
   "metadata": {},
   "outputs": [],
   "source": [
    "## creating the dataframe\n",
    "array_w2v = np.zeros((len(tweet_tokened),200))\n",
    "for i in range(len(tweet_tokened)):\n",
    "    array_w2v[i:] = word_vec(tweet_tokened[i],200)\n",
    "    df_word2vec = pd.DataFrame(array_w2v)"
   ]
  },
  {
   "cell_type": "code",
   "execution_count": 35,
   "metadata": {},
   "outputs": [
    {
     "name": "stdout",
     "output_type": "stream",
     "text": [
      "        0         1         2         3         4         5         6    \\\n",
      "0  0.077610 -0.010712  0.126981 -0.013437 -0.172074  0.073211 -0.299917   \n",
      "1  0.007966 -0.369694  0.361128 -0.146941  0.107485  0.090121 -0.301480   \n",
      "2 -0.128753 -0.209144  0.045659  0.089445 -0.266204  0.004872 -0.249671   \n",
      "3 -0.061228 -0.421191 -0.183243  0.460053 -0.105567  0.355856 -0.002528   \n",
      "4 -0.164050  0.162376  0.048394 -0.114294  0.010260  0.232262 -0.306243   \n",
      "\n",
      "        7         8         9    ...       190       191       192       193  \\\n",
      "0 -0.335531  0.261413 -0.127338  ...  0.187304 -0.054835  0.137010 -0.131696   \n",
      "1 -0.224632  0.346703  0.153541  ...  0.108122 -0.381661  0.351959 -0.365586   \n",
      "2 -0.258327  0.105127  0.106135  ... -0.123542 -0.214031  0.251248 -0.274669   \n",
      "3 -0.205643  0.432995  0.068895  ...  0.373826 -0.236816  0.113702 -0.237839   \n",
      "4 -0.365593  0.383851  0.217481  ...  0.189433 -0.442950  0.441518  0.007044   \n",
      "\n",
      "        194       195       196       197       198       199  \n",
      "0  0.144388  0.059549 -0.175442 -0.049972  0.133126  0.201761  \n",
      "1  0.141122  0.120060 -0.015604  0.136085 -0.047933  0.149667  \n",
      "2  0.377383  0.277491 -0.025435  0.254497 -0.036193 -0.170007  \n",
      "3  0.177041  0.012849 -0.422769  0.149039  0.187124  0.529835  \n",
      "4 -0.017017  0.052167 -0.391641  0.572484 -0.159335  0.032712  \n",
      "\n",
      "[5 rows x 200 columns]\n",
      "0      float64\n",
      "1      float64\n",
      "2      float64\n",
      "3      float64\n",
      "4      float64\n",
      "        ...   \n",
      "195    float64\n",
      "196    float64\n",
      "197    float64\n",
      "198    float64\n",
      "199    float64\n",
      "Length: 200, dtype: object\n"
     ]
    }
   ],
   "source": [
    "print(df_word2vec.head(5))\n",
    "print(df_word2vec.dtypes)"
   ]
  },
  {
   "cell_type": "code",
   "execution_count": 36,
   "metadata": {},
   "outputs": [],
   "source": [
    "train_dat = df_word2vec.iloc[:31962,:]\n",
    "data_test1 = df_word2vec.iloc[31962:,:]"
   ]
  },
  {
   "cell_type": "markdown",
   "metadata": {},
   "source": [
    "#### BUILD A MACHINE LEARNING MODEL TO PREDICT THE OUTPUT"
   ]
  },
  {
   "cell_type": "markdown",
   "metadata": {},
   "source": [
    "* import the required libraries\n",
    "* using random forest machine learning model for prediction"
   ]
  },
  {
   "cell_type": "code",
   "execution_count": 37,
   "metadata": {},
   "outputs": [],
   "source": [
    "from sklearn.ensemble import RandomForestClassifier\n",
    "from sklearn.metrics import f1_score, accuracy_score , confusion_matrix\n",
    "from sklearn.model_selection import StratifiedKFold\n",
    "from sklearn.model_selection import train_test_split"
   ]
  },
  {
   "cell_type": "code",
   "execution_count": 38,
   "metadata": {},
   "outputs": [],
   "source": [
    "rf = RandomForestClassifier(n_estimators=400 , random_state=11)"
   ]
  },
  {
   "cell_type": "code",
   "execution_count": 39,
   "metadata": {},
   "outputs": [],
   "source": [
    "xtrain , xtest , ytrain , yval = train_test_split(train_dat ,data_train['label'] ,test_size = 0.3 )"
   ]
  },
  {
   "cell_type": "code",
   "execution_count": 40,
   "metadata": {},
   "outputs": [
    {
     "data": {
      "text/plain": [
       "RandomForestClassifier(n_estimators=400, random_state=11)"
      ]
     },
     "execution_count": 40,
     "metadata": {},
     "output_type": "execute_result"
    }
   ],
   "source": [
    "rf.fit(xtrain , ytrain)"
   ]
  },
  {
   "cell_type": "code",
   "execution_count": 41,
   "metadata": {},
   "outputs": [],
   "source": [
    "pred_xval = rf.predict(xtest)"
   ]
  },
  {
   "cell_type": "code",
   "execution_count": 42,
   "metadata": {},
   "outputs": [
    {
     "data": {
      "text/plain": [
       "0.9542183752216081"
      ]
     },
     "execution_count": 42,
     "metadata": {},
     "output_type": "execute_result"
    }
   ],
   "source": [
    "accuracy_score(pred_xval, yval)"
   ]
  },
  {
   "cell_type": "code",
   "execution_count": 43,
   "metadata": {},
   "outputs": [],
   "source": [
    "pred_of_test = rf.predict(data_test1)"
   ]
  },
  {
   "cell_type": "code",
   "execution_count": 44,
   "metadata": {},
   "outputs": [
    {
     "data": {
      "text/plain": [
       "17197"
      ]
     },
     "execution_count": 44,
     "metadata": {},
     "output_type": "execute_result"
    }
   ],
   "source": [
    "pred_of_test.size"
   ]
  },
  {
   "cell_type": "code",
   "execution_count": 45,
   "metadata": {},
   "outputs": [],
   "source": [
    "final = pd.DataFrame()\n",
    "final['id'] = data_test['id']"
   ]
  },
  {
   "cell_type": "code",
   "execution_count": 46,
   "metadata": {},
   "outputs": [],
   "source": [
    "final['label'] = pred_of_test"
   ]
  },
  {
   "cell_type": "code",
   "execution_count": 47,
   "metadata": {},
   "outputs": [
    {
     "data": {
      "text/html": [
       "<div>\n",
       "<style scoped>\n",
       "    .dataframe tbody tr th:only-of-type {\n",
       "        vertical-align: middle;\n",
       "    }\n",
       "\n",
       "    .dataframe tbody tr th {\n",
       "        vertical-align: top;\n",
       "    }\n",
       "\n",
       "    .dataframe thead th {\n",
       "        text-align: right;\n",
       "    }\n",
       "</style>\n",
       "<table border=\"1\" class=\"dataframe\">\n",
       "  <thead>\n",
       "    <tr style=\"text-align: right;\">\n",
       "      <th></th>\n",
       "      <th>id</th>\n",
       "      <th>label</th>\n",
       "    </tr>\n",
       "  </thead>\n",
       "  <tbody>\n",
       "    <tr>\n",
       "      <th>0</th>\n",
       "      <td>31963</td>\n",
       "      <td>0</td>\n",
       "    </tr>\n",
       "    <tr>\n",
       "      <th>1</th>\n",
       "      <td>31964</td>\n",
       "      <td>0</td>\n",
       "    </tr>\n",
       "    <tr>\n",
       "      <th>2</th>\n",
       "      <td>31965</td>\n",
       "      <td>0</td>\n",
       "    </tr>\n",
       "    <tr>\n",
       "      <th>3</th>\n",
       "      <td>31966</td>\n",
       "      <td>0</td>\n",
       "    </tr>\n",
       "    <tr>\n",
       "      <th>4</th>\n",
       "      <td>31967</td>\n",
       "      <td>0</td>\n",
       "    </tr>\n",
       "  </tbody>\n",
       "</table>\n",
       "</div>"
      ],
      "text/plain": [
       "      id  label\n",
       "0  31963      0\n",
       "1  31964      0\n",
       "2  31965      0\n",
       "3  31966      0\n",
       "4  31967      0"
      ]
     },
     "execution_count": 47,
     "metadata": {},
     "output_type": "execute_result"
    }
   ],
   "source": [
    "final.head(5)"
   ]
  },
  {
   "cell_type": "code",
   "execution_count": 48,
   "metadata": {},
   "outputs": [],
   "source": [
    "from sklearn.metrics import confusion_matrix"
   ]
  },
  {
   "cell_type": "code",
   "execution_count": 49,
   "metadata": {},
   "outputs": [
    {
     "name": "stdout",
     "output_type": "stream",
     "text": [
      "[[8903   17]\n",
      " [ 422  247]]\n"
     ]
    }
   ],
   "source": [
    "cf_matrix = confusion_matrix(yval, pred_xval)\n",
    "print(cf_matrix)"
   ]
  },
  {
   "cell_type": "code",
   "execution_count": 50,
   "metadata": {},
   "outputs": [
    {
     "name": "stdout",
     "output_type": "stream",
     "text": [
      "f1 score : 0.5294748124330118\n"
     ]
    }
   ],
   "source": [
    "print(\"f1 score :\", f1_score(yval, pred_xval))"
   ]
  },
  {
   "cell_type": "code",
   "execution_count": 51,
   "metadata": {},
   "outputs": [
    {
     "data": {
      "text/plain": [
       "<AxesSubplot:>"
      ]
     },
     "execution_count": 51,
     "metadata": {},
     "output_type": "execute_result"
    },
    {
     "data": {
      "image/png": "[encoded data removed]",
      "text/plain": [
       "<Figure size 432x288 with 2 Axes>"
      ]
     },
     "metadata": {
      "needs_background": "light"
     },
     "output_type": "display_data"
    }
   ],
   "source": [
    "import seaborn as sns\n",
    "sns.heatmap(cf_matrix/np.sum(cf_matrix), annot=True, \n",
    "            fmt='.2%', cmap='Blues')"
   ]
  },
  {
   "cell_type": "code",
   "execution_count": null,
   "metadata": {},
   "outputs": [],
   "source": []
  }
 ],
 "metadata": {
  "kernelspec": {
   "display_name": "Python 3",
   "language": "python",
   "name": "python3"
  },
  "language_info": {
   "codemirror_mode": {
    "name": "ipython",
    "version": 3
   },
   "file_extension": ".py",
   "mimetype": "text/x-python",
   "name": "python",
   "nbconvert_exporter": "python",
   "pygments_lexer": "ipython3",
   "version": "3.8.8"
  }
 },
 "nbformat": 4,
 "nbformat_minor": 4
}
